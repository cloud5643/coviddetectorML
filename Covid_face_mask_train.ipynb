{
 "cells": [
  {
   "cell_type": "code",
   "execution_count": 1,
   "metadata": {},
   "outputs": [],
   "source": [
    "from tensorflow.keras.preprocessing.image import ImageDataGenerator\n",
    "from tensorflow.keras.applications import MobileNetV2\n",
    "from tensorflow.keras.layers import AveragePooling2D\n",
    "from tensorflow.keras.layers import Dropout\n",
    "from tensorflow.keras.layers import Flatten\n",
    "from tensorflow.keras.layers import Dense\n",
    "from tensorflow.keras.layers import Input\n",
    "from tensorflow.keras.models import Model\n",
    "from tensorflow.keras.optimizers import Adam\n",
    "from tensorflow.keras.applications.mobilenet_v2 import preprocess_input\n",
    "from tensorflow.keras.preprocessing.image import img_to_array\n",
    "from tensorflow.keras.preprocessing.image import load_img\n",
    "from tensorflow.keras.utils import to_categorical\n",
    "from sklearn.preprocessing import LabelBinarizer\n",
    "from sklearn.model_selection import train_test_split\n",
    "from sklearn.metrics import classification_report\n",
    "from imutils import paths\n",
    "import matplotlib.pyplot as plt\n",
    "import numpy as np\n",
    "import os"
   ]
  },
  {
   "cell_type": "code",
   "execution_count": 2,
   "metadata": {},
   "outputs": [],
   "source": [
    "INIT_LR = 1e-4\n",
    "EPOCHS = 20\n",
    "BS = 32"
   ]
  },
  {
   "cell_type": "code",
   "execution_count": 3,
   "metadata": {},
   "outputs": [],
   "source": [
    "DIRECTORY = r\"C:\\Users\\Vineeth\\Desktop\\Covid_Face_mask_detector\\RESOURCE\"\n",
    "CATEGORIES = [\"img_mask\", \"img_nomask\"]"
   ]
  },
  {
   "cell_type": "code",
   "execution_count": 4,
   "metadata": {},
   "outputs": [
    {
     "name": "stderr",
     "output_type": "stream",
     "text": [
      "C:\\ProgramData\\Anaconda3\\lib\\site-packages\\PIL\\Image.py:989: UserWarning: Palette images with Transparency expressed in bytes should be converted to RGBA images\n",
      "  \"Palette images with Transparency expressed in bytes should be \"\n"
     ]
    }
   ],
   "source": [
    "data = []\n",
    "labels = []\n",
    "\n",
    "for category in CATEGORIES:\n",
    "    path = os.path.join(DIRECTORY, category)\n",
    "    for img in os.listdir(path):\n",
    "        img_path = os.path.join(path, img)\n",
    "        image = load_img(img_path, target_size=(224, 224))\n",
    "        image = img_to_array(image)\n",
    "        image = preprocess_input(image)\n",
    "\n",
    "        data.append(image)\n",
    "        labels.append(category)"
   ]
  },
  {
   "cell_type": "code",
   "execution_count": 5,
   "metadata": {},
   "outputs": [],
   "source": [
    "lb = LabelBinarizer()\n",
    "labels = lb.fit_transform(labels)\n",
    "labels = to_categorical(labels)\n",
    "\n",
    "data = np.array(data, dtype=\"float32\")\n",
    "labels = np.array(labels)\n",
    "\n",
    "(trainX, testX, trainY, testY) = train_test_split(data, labels,test_size=0.20, stratify=labels, random_state=42)"
   ]
  },
  {
   "cell_type": "code",
   "execution_count": 7,
   "metadata": {},
   "outputs": [],
   "source": [
    "vin_1 = ImageDataGenerator(rotation_range=20,zoom_range=0.15,width_shift_range=0.2,height_shift_range=0.2,shear_range=0.15,horizontal_flip=True,\n",
    "fill_mode=\"nearest\")"
   ]
  },
  {
   "cell_type": "code",
   "execution_count": 8,
   "metadata": {},
   "outputs": [
    {
     "name": "stdout",
     "output_type": "stream",
     "text": [
      "WARNING:tensorflow:`input_shape` is undefined or non-square, or `rows` is not in [96, 128, 160, 192, 224]. Weights for input shape (224, 224) will be loaded as the default.\n",
      "Downloading data from https://storage.googleapis.com/tensorflow/keras-applications/mobilenet_v2/mobilenet_v2_weights_tf_dim_ordering_tf_kernels_1.0_224_no_top.h5\n",
      "9412608/9406464 [==============================] - 4s 0us/step\n"
     ]
    }
   ],
   "source": [
    "baseModel = MobileNetV2(weights=\"imagenet\", include_top=False,input_tensor=Input(shape=(224, 224, 3)))"
   ]
  },
  {
   "cell_type": "code",
   "execution_count": 9,
   "metadata": {},
   "outputs": [],
   "source": [
    "headModel = baseModel.output\n",
    "headModel = AveragePooling2D(pool_size=(7, 7))(headModel)\n",
    "headModel = Flatten(name=\"flatten\")(headModel)\n",
    "headModel = Dense(128, activation=\"relu\")(headModel)\n",
    "headModel = Dropout(0.5)(headModel)\n",
    "headModel = Dense(2, activation=\"softmax\")(headModel)"
   ]
  },
  {
   "cell_type": "code",
   "execution_count": 10,
   "metadata": {},
   "outputs": [],
   "source": [
    "model = Model(inputs=baseModel.input, outputs=headModel)\n"
   ]
  },
  {
   "cell_type": "code",
   "execution_count": 12,
   "metadata": {},
   "outputs": [],
   "source": [
    "for layer in baseModel.layers:\n",
    "    layer.trainable = False\n"
   ]
  },
  {
   "cell_type": "code",
   "execution_count": 13,
   "metadata": {},
   "outputs": [
    {
     "name": "stdout",
     "output_type": "stream",
     "text": [
      "[INFO] compiling model...\n"
     ]
    }
   ],
   "source": [
    "print(\"[INFO] compiling model...\")\n",
    "model_optimizer = Adam(lr=INIT_LR, decay=INIT_LR / EPOCHS)\n",
    "model.compile(loss=\"binary_crossentropy\", optimizer=model_optimizer,metrics=[\"accuracy\"])"
   ]
  },
  {
   "cell_type": "code",
   "execution_count": 14,
   "metadata": {},
   "outputs": [
    {
     "name": "stdout",
     "output_type": "stream",
     "text": [
      "Epoch 1/20\n",
      "113/113 [==============================] - 138s 1s/step - loss: 0.3034 - accuracy: 0.8672 - val_loss: 0.0897 - val_accuracy: 0.9769\n",
      "Epoch 2/20\n",
      "113/113 [==============================] - 137s 1s/step - loss: 0.0994 - accuracy: 0.9653 - val_loss: 0.0548 - val_accuracy: 0.9857\n",
      "Epoch 3/20\n",
      "113/113 [==============================] - 140s 1s/step - loss: 0.0675 - accuracy: 0.9775 - val_loss: 0.0429 - val_accuracy: 0.9890\n",
      "Epoch 4/20\n",
      "113/113 [==============================] - 142s 1s/step - loss: 0.0489 - accuracy: 0.9825 - val_loss: 0.0371 - val_accuracy: 0.9901\n",
      "Epoch 5/20\n",
      "113/113 [==============================] - 140s 1s/step - loss: 0.0481 - accuracy: 0.9817 - val_loss: 0.0363 - val_accuracy: 0.9901\n",
      "Epoch 6/20\n",
      "113/113 [==============================] - 132s 1s/step - loss: 0.0382 - accuracy: 0.9867 - val_loss: 0.0311 - val_accuracy: 0.9923\n",
      "Epoch 7/20\n",
      "113/113 [==============================] - 132s 1s/step - loss: 0.0365 - accuracy: 0.9878 - val_loss: 0.0298 - val_accuracy: 0.9934\n",
      "Epoch 8/20\n",
      "113/113 [==============================] - 133s 1s/step - loss: 0.0294 - accuracy: 0.9906 - val_loss: 0.0302 - val_accuracy: 0.9934\n",
      "Epoch 9/20\n",
      "113/113 [==============================] - 134s 1s/step - loss: 0.0317 - accuracy: 0.9894 - val_loss: 0.0277 - val_accuracy: 0.9945\n",
      "Epoch 10/20\n",
      "113/113 [==============================] - 133s 1s/step - loss: 0.0317 - accuracy: 0.9911 - val_loss: 0.0287 - val_accuracy: 0.9945\n",
      "Epoch 11/20\n",
      "113/113 [==============================] - 134s 1s/step - loss: 0.0292 - accuracy: 0.9903 - val_loss: 0.0259 - val_accuracy: 0.9945\n",
      "Epoch 12/20\n",
      "113/113 [==============================] - 132s 1s/step - loss: 0.0252 - accuracy: 0.9922 - val_loss: 0.0275 - val_accuracy: 0.9934\n",
      "Epoch 13/20\n",
      "113/113 [==============================] - 131s 1s/step - loss: 0.0234 - accuracy: 0.9942 - val_loss: 0.0272 - val_accuracy: 0.9934\n",
      "Epoch 14/20\n",
      "113/113 [==============================] - 131s 1s/step - loss: 0.0268 - accuracy: 0.9917 - val_loss: 0.0267 - val_accuracy: 0.9934\n",
      "Epoch 15/20\n",
      "113/113 [==============================] - 133s 1s/step - loss: 0.0197 - accuracy: 0.9939 - val_loss: 0.0277 - val_accuracy: 0.9934\n",
      "Epoch 16/20\n",
      "113/113 [==============================] - 133s 1s/step - loss: 0.0228 - accuracy: 0.9928 - val_loss: 0.0249 - val_accuracy: 0.9945\n",
      "Epoch 17/20\n",
      "113/113 [==============================] - 132s 1s/step - loss: 0.0242 - accuracy: 0.9898 - val_loss: 0.0243 - val_accuracy: 0.9923\n",
      "Epoch 18/20\n",
      "113/113 [==============================] - 132s 1s/step - loss: 0.0197 - accuracy: 0.9947 - val_loss: 0.0262 - val_accuracy: 0.9923\n",
      "Epoch 19/20\n",
      "113/113 [==============================] - 132s 1s/step - loss: 0.0189 - accuracy: 0.9931 - val_loss: 0.0251 - val_accuracy: 0.9923\n",
      "Epoch 20/20\n",
      "113/113 [==============================] - 132s 1s/step - loss: 0.0159 - accuracy: 0.9944 - val_loss: 0.0247 - val_accuracy: 0.9923\n"
     ]
    }
   ],
   "source": [
    "H = model.fit(vin_1.flow(trainX, trainY, batch_size=BS),steps_per_epoch=len(trainX) // BS,validation_data=(testX, testY),validation_steps=len(testX) // BS,\n",
    "epochs=EPOCHS)"
   ]
  },
  {
   "cell_type": "code",
   "execution_count": 15,
   "metadata": {},
   "outputs": [],
   "source": [
    "predIdxs = model.predict(testX, batch_size=BS)\n"
   ]
  },
  {
   "cell_type": "code",
   "execution_count": 16,
   "metadata": {},
   "outputs": [],
   "source": [
    "predIdxs = np.argmax(predIdxs, axis=1)\n"
   ]
  },
  {
   "cell_type": "code",
   "execution_count": 17,
   "metadata": {},
   "outputs": [
    {
     "name": "stdout",
     "output_type": "stream",
     "text": [
      "              precision    recall  f1-score   support\n",
      "\n",
      "    img_mask       0.99      0.99      0.99       521\n",
      "  img_nomask       0.99      0.99      0.99       388\n",
      "\n",
      "    accuracy                           0.99       909\n",
      "   macro avg       0.99      0.99      0.99       909\n",
      "weighted avg       0.99      0.99      0.99       909\n",
      "\n"
     ]
    }
   ],
   "source": [
    "print(classification_report(testY.argmax(axis=1), predIdxs,\n",
    "\ttarget_names=lb.classes_))\n"
   ]
  },
  {
   "cell_type": "code",
   "execution_count": 20,
   "metadata": {},
   "outputs": [],
   "source": [
    "model.save(\"covid_mask_detector.model\", save_format=\"h5\")\n"
   ]
  },
  {
   "cell_type": "code",
   "execution_count": 21,
   "metadata": {},
   "outputs": [
    {
     "data": {
      "image/png": "[encoded data removed]",
      "text/plain": [
       "<Figure size 432x288 with 1 Axes>"
      ]
     },
     "metadata": {},
     "output_type": "display_data"
    }
   ],
   "source": [
    "#plotting graph  for loss and accuracy..\n",
    "N = EPOCHS\n",
    "plt.style.use(\"ggplot\")\n",
    "plt.figure()\n",
    "plt.plot(np.arange(0, N), H.history[\"loss\"], label=\"train_loss\")\n",
    "plt.plot(np.arange(0, N), H.history[\"val_loss\"], label=\"val_loss\")\n",
    "plt.plot(np.arange(0, N), H.history[\"accuracy\"], label=\"train_acc\")\n",
    "plt.plot(np.arange(0, N), H.history[\"val_accuracy\"], label=\"val_acc\")\n",
    "plt.title(\"Training Loss and Accuracy\")\n",
    "plt.xlabel(\"Epoch #\")\n",
    "plt.ylabel(\"Loss/Accuracy\")\n",
    "plt.legend(loc=\"lower left\")\n",
    "plt.savefig(\"plot.png\")"
   ]
  },
  {
   "cell_type": "code",
   "execution_count": null,
   "metadata": {},
   "outputs": [],
   "source": []
  }
 ],
 "metadata": {
  "kernelspec": {
   "display_name": "Python 3",
   "language": "python",
   "name": "python3"
  },
  "language_info": {
   "codemirror_mode": {
    "name": "ipython",
    "version": 3
   },
   "file_extension": ".py",
   "mimetype": "text/x-python",
   "name": "python",
   "nbconvert_exporter": "python",
   "pygments_lexer": "ipython3",
   "version": "3.7.4"
  }
 },
 "nbformat": 4,
 "nbformat_minor": 2
}
